{
  "nbformat": 4,
  "nbformat_minor": 0,
  "metadata": {
    "colab": {
      "provenance": []
    },
    "kernelspec": {
      "name": "python3",
      "display_name": "Python 3"
    },
    "language_info": {
      "name": "python"
    }
  },
  "cells": [
    {
      "cell_type": "code",
      "source": [
        "import pandas as pd\n",
        "import plotly.express as px\n",
        "import plotly.graph_objects as go\n",
        "\n",
        "data = pd.read_csv(\"/content/ourdata.csv\")\n",
        "print(data.head())"
      ],
      "metadata": {
        "colab": {
          "base_uri": "https://localhost:8080/"
        },
        "id": "lHf8Lc8iGK7P",
        "outputId": "35383734-d6fa-4a8e-a1a8-3a4c0de137ea"
      },
      "execution_count": 5,
      "outputs": [
        {
          "output_type": "stream",
          "name": "stdout",
          "text": [
            "         Date Time_Start  Time_End Crop_Type  Base_Hourly_Wage  \\\n",
            "0  2023-01-26   07:30:00  16:30:00     Wheat              12.0   \n",
            "1  2023-01-24   07:30:00  15:30:00  Soybeans              12.5   \n",
            "2  2023-01-20   07:30:00  16:30:00     Wheat              12.0   \n",
            "3  2023-01-31   08:00:00  17:00:00      Corn              11.5   \n",
            "4  2023-01-27   09:00:00  17:00:00      Corn              11.5   \n",
            "\n",
            "   Supply_Demand_Ratio  Dynamic_Pricing_Multiplier  Total_Earnings  \n",
            "0                  1.2                       1.495        161.4600  \n",
            "1                  1.3                       1.625        162.5000  \n",
            "2                  1.4                       1.495        161.4600  \n",
            "3                  1.1                       1.375        142.3125  \n",
            "4                  1.4                       1.625        149.5000  \n"
          ]
        }
      ]
    },
    {
      "cell_type": "code",
      "source": [
        "print(data.describe())"
      ],
      "metadata": {
        "colab": {
          "base_uri": "https://localhost:8080/"
        },
        "id": "5Il73j8GGUPL",
        "outputId": "d9cd0119-85d8-4ebb-e281-3f4ece2526bf"
      },
      "execution_count": 6,
      "outputs": [
        {
          "output_type": "stream",
          "name": "stdout",
          "text": [
            "       Base_Hourly_Wage  Supply_Demand_Ratio  Dynamic_Pricing_Multiplier  \\\n",
            "count       5000.000000          5000.000000                 5000.000000   \n",
            "mean          12.001900             1.296340                    1.535514   \n",
            "std            0.405684             0.141607                    0.116130   \n",
            "min           11.500000             1.100000                    1.375000   \n",
            "25%           11.500000             1.200000                    1.440000   \n",
            "50%           12.000000             1.300000                    1.495000   \n",
            "75%           12.500000             1.400000                    1.625000   \n",
            "max           12.500000             1.500000                    1.725000   \n",
            "\n",
            "       Total_Earnings  \n",
            "count     5000.000000  \n",
            "mean       156.467542  \n",
            "std         15.978918  \n",
            "min        126.500000  \n",
            "25%        143.520000  \n",
            "50%        155.520000  \n",
            "75%        168.187500  \n",
            "max        194.062500  \n"
          ]
        }
      ]
    },
    {
      "cell_type": "code",
      "source": [
        "\n",
        "# Convert 'Time_Start' and 'Time_End' columns to datetime format\n",
        "data['Time_Start'] = pd.to_datetime(data['Time_Start'])\n",
        "data['Time_End'] = pd.to_datetime(data['Time_End'])\n",
        "\n",
        "# Calculate duration in hours\n",
        "data['Duration'] = (data['Time_End'] - data['Time_Start']).dt.total_seconds() / 3600\n",
        "\n",
        "# Print the DataFrame with the added 'Duration' column\n",
        "print(data)\n"
      ],
      "metadata": {
        "colab": {
          "base_uri": "https://localhost:8080/"
        },
        "id": "JXMjMI6MG5O-",
        "outputId": "86a067be-0eaa-4802-d236-317dc6f6e1b0"
      },
      "execution_count": 7,
      "outputs": [
        {
          "output_type": "stream",
          "name": "stdout",
          "text": [
            "            Date          Time_Start            Time_End Crop_Type  \\\n",
            "0     2023-01-26 2024-02-19 07:30:00 2024-02-19 16:30:00     Wheat   \n",
            "1     2023-01-24 2024-02-19 07:30:00 2024-02-19 15:30:00  Soybeans   \n",
            "2     2023-01-20 2024-02-19 07:30:00 2024-02-19 16:30:00     Wheat   \n",
            "3     2023-01-31 2024-02-19 08:00:00 2024-02-19 17:00:00      Corn   \n",
            "4     2023-01-27 2024-02-19 09:00:00 2024-02-19 17:00:00      Corn   \n",
            "...          ...                 ...                 ...       ...   \n",
            "4995  2023-01-25 2024-02-19 09:00:00 2024-02-19 17:00:00  Soybeans   \n",
            "4996  2023-02-01 2024-02-19 08:00:00 2024-02-19 16:00:00      Corn   \n",
            "4997  2023-01-24 2024-02-19 09:00:00 2024-02-19 17:00:00     Wheat   \n",
            "4998  2023-01-26 2024-02-19 08:00:00 2024-02-19 16:00:00      Corn   \n",
            "4999  2023-01-26 2024-02-19 08:00:00 2024-02-19 16:00:00     Wheat   \n",
            "\n",
            "      Base_Hourly_Wage  Supply_Demand_Ratio  Dynamic_Pricing_Multiplier  \\\n",
            "0                 12.0                  1.2                       1.495   \n",
            "1                 12.5                  1.3                       1.625   \n",
            "2                 12.0                  1.4                       1.495   \n",
            "3                 11.5                  1.1                       1.375   \n",
            "4                 11.5                  1.4                       1.625   \n",
            "...                ...                  ...                         ...   \n",
            "4995              12.5                  1.1                       1.725   \n",
            "4996              11.5                  1.2                       1.625   \n",
            "4997              12.0                  1.5                       1.725   \n",
            "4998              11.5                  1.3                       1.375   \n",
            "4999              12.0                  1.1                       1.440   \n",
            "\n",
            "      Total_Earnings  Duration  \n",
            "0           161.4600       9.0  \n",
            "1           162.5000       8.0  \n",
            "2           161.4600       9.0  \n",
            "3           142.3125       9.0  \n",
            "4           149.5000       8.0  \n",
            "...              ...       ...  \n",
            "4995        172.5000       8.0  \n",
            "4996        149.5000       8.0  \n",
            "4997        165.6000       8.0  \n",
            "4998        126.5000       8.0  \n",
            "4999        138.2400       8.0  \n",
            "\n",
            "[5000 rows x 9 columns]\n"
          ]
        }
      ]
    },
    {
      "cell_type": "code",
      "source": [
        "import numpy as np\n",
        "\n",
        "# Define percentiles for high and low values\n",
        "high_percentile = 75\n",
        "low_percentile = 25\n",
        "\n",
        "# Calculate demand_multiplier based on percentile for high and low demand (using Total_Earnings as a proxy for demand)\n",
        "data['demand_multiplier'] = np.where(data['Total_Earnings'] > np.percentile(data['Total_Earnings'], high_percentile),\n",
        "                                     data['Total_Earnings'] / np.percentile(data['Total_Earnings'], high_percentile),\n",
        "                                     data['Total_Earnings'] / np.percentile(data['Total_Earnings'], low_percentile))\n",
        "\n",
        "# Calculate supply_multiplier based on percentile for high and low supply (using Base_Hourly_Wage * Supply_Demand_Ratio as a proxy for supply)\n",
        "data['supply_multiplier'] = np.where((data['Base_Hourly_Wage'] * data['Supply_Demand_Ratio']) > np.percentile(data['Base_Hourly_Wage'] * data['Supply_Demand_Ratio'], low_percentile),\n",
        "                                     np.percentile(data['Base_Hourly_Wage'] * data['Supply_Demand_Ratio'], high_percentile) / (data['Base_Hourly_Wage'] * data['Supply_Demand_Ratio']),\n",
        "                                     np.percentile(data['Base_Hourly_Wage'] * data['Supply_Demand_Ratio'], low_percentile) / (data['Base_Hourly_Wage'] * data['Supply_Demand_Ratio']))\n",
        "\n",
        "# Define thresholds for high and low demand/supply\n",
        "demand_threshold_high = 1.2  # Higher demand threshold\n",
        "demand_threshold_low = 0.8   # Lower demand threshold\n",
        "supply_threshold_high = 0.8  # Higher supply threshold\n",
        "supply_threshold_low = 1.2   # Lower supply threshold\n",
        "\n",
        "# Calculate dynamic pricing multiplier\n",
        "data['Dynamic_Pricing_Multiplier'] = (np.maximum(data['demand_multiplier'], demand_threshold_low) *\n",
        "                                       np.maximum(data['supply_multiplier'], supply_threshold_high))\n",
        "\n",
        "# Display the resulting DataFrame with the added 'Dynamic_Pricing_Multiplier' column\n",
        "print(data)\n"
      ],
      "metadata": {
        "colab": {
          "base_uri": "https://localhost:8080/"
        },
        "id": "_dmNxSM2IZmn",
        "outputId": "c7ff8ea2-c0e6-40ad-b99d-b845c83d3357"
      },
      "execution_count": 10,
      "outputs": [
        {
          "output_type": "stream",
          "name": "stdout",
          "text": [
            "            Date          Time_Start            Time_End Crop_Type  \\\n",
            "0     2023-01-26 2024-02-19 07:30:00 2024-02-19 16:30:00     Wheat   \n",
            "1     2023-01-24 2024-02-19 07:30:00 2024-02-19 15:30:00  Soybeans   \n",
            "2     2023-01-20 2024-02-19 07:30:00 2024-02-19 16:30:00     Wheat   \n",
            "3     2023-01-31 2024-02-19 08:00:00 2024-02-19 17:00:00      Corn   \n",
            "4     2023-01-27 2024-02-19 09:00:00 2024-02-19 17:00:00      Corn   \n",
            "...          ...                 ...                 ...       ...   \n",
            "4995  2023-01-25 2024-02-19 09:00:00 2024-02-19 17:00:00  Soybeans   \n",
            "4996  2023-02-01 2024-02-19 08:00:00 2024-02-19 16:00:00      Corn   \n",
            "4997  2023-01-24 2024-02-19 09:00:00 2024-02-19 17:00:00     Wheat   \n",
            "4998  2023-01-26 2024-02-19 08:00:00 2024-02-19 16:00:00      Corn   \n",
            "4999  2023-01-26 2024-02-19 08:00:00 2024-02-19 16:00:00     Wheat   \n",
            "\n",
            "      Base_Hourly_Wage  Supply_Demand_Ratio  Dynamic_Pricing_Multiplier  \\\n",
            "0                 12.0                  1.2                    1.347656   \n",
            "1                 12.5                  1.3                    1.201923   \n",
            "2                 12.0                  1.4                    1.155134   \n",
            "3                 11.5                  1.1                    1.081731   \n",
            "4                 11.5                  1.4                    1.116071   \n",
            "...                ...                  ...                         ...   \n",
            "4995              12.5                  1.1                    1.029371   \n",
            "4996              11.5                  1.2                    1.041667   \n",
            "4997              12.0                  1.5                    1.105769   \n",
            "4998              11.5                  1.3                    1.017012   \n",
            "4999              12.0                  1.1                    1.006993   \n",
            "\n",
            "      Total_Earnings  Duration  demand_multiplier  supply_multiplier  \n",
            "0           161.4600       9.0           1.125000           1.197917  \n",
            "1           162.5000       8.0           1.132246           1.061538  \n",
            "2           161.4600       9.0           1.125000           1.026786  \n",
            "3           142.3125       9.0           0.991587           1.090909  \n",
            "4           149.5000       8.0           1.041667           1.071429  \n",
            "...              ...       ...                ...                ...  \n",
            "4995        172.5000       8.0           1.025641           1.003636  \n",
            "4996        149.5000       8.0           1.041667           1.000000  \n",
            "4997        165.6000       8.0           1.153846           0.958333  \n",
            "4998        126.5000       8.0           0.881410           1.153846  \n",
            "4999        138.2400       8.0           0.963211           1.045455  \n",
            "\n",
            "[5000 rows x 11 columns]\n"
          ]
        }
      ]
    }
  ]
}